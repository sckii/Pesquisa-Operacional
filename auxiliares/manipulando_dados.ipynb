{
 "cells": [
  {
   "cell_type": "code",
   "execution_count": 1,
   "metadata": {},
   "outputs": [],
   "source": [
    "import pandas as pd"
   ]
  },
  {
   "cell_type": "code",
   "execution_count": 8,
   "metadata": {},
   "outputs": [
    {
     "name": "stdout",
     "output_type": "stream",
     "text": [
      "Investimento: 1000.0\n"
     ]
    }
   ],
   "source": [
    "arquivo_csv = pd.read_csv(\"../input.csv\", sep=\",\")\n",
    "\n",
    "investimento = float(arquivo_csv[\"investimento\"][0])\n",
    "print(f'Investimento: {investimento}')"
   ]
  },
  {
   "cell_type": "code",
   "execution_count": 9,
   "metadata": {},
   "outputs": [
    {
     "data": {
      "text/html": [
       "<div>\n",
       "<style scoped>\n",
       "    .dataframe tbody tr th:only-of-type {\n",
       "        vertical-align: middle;\n",
       "    }\n",
       "\n",
       "    .dataframe tbody tr th {\n",
       "        vertical-align: top;\n",
       "    }\n",
       "\n",
       "    .dataframe thead th {\n",
       "        text-align: right;\n",
       "    }\n",
       "</style>\n",
       "<table border=\"1\" class=\"dataframe\">\n",
       "  <thead>\n",
       "    <tr style=\"text-align: right;\">\n",
       "      <th></th>\n",
       "      <th>produto</th>\n",
       "      <th>ingrediente</th>\n",
       "      <th>quantidade_ingrediente_produto</th>\n",
       "      <th>custo_ingrediente</th>\n",
       "      <th>quantidade_produto_loja</th>\n",
       "      <th>quantidade_minima_produto_loja</th>\n",
       "      <th>quantidade_produto_encomendado</th>\n",
       "    </tr>\n",
       "  </thead>\n",
       "  <tbody>\n",
       "    <tr>\n",
       "      <th>0</th>\n",
       "      <td>essencia_1</td>\n",
       "      <td>ingrediente_1</td>\n",
       "      <td>16</td>\n",
       "      <td>2.2</td>\n",
       "      <td>1</td>\n",
       "      <td>10</td>\n",
       "      <td>12</td>\n",
       "    </tr>\n",
       "    <tr>\n",
       "      <th>1</th>\n",
       "      <td>essencia_1</td>\n",
       "      <td>ingrediente_2</td>\n",
       "      <td>12</td>\n",
       "      <td>4.5</td>\n",
       "      <td>1</td>\n",
       "      <td>10</td>\n",
       "      <td>12</td>\n",
       "    </tr>\n",
       "    <tr>\n",
       "      <th>2</th>\n",
       "      <td>essencia_1</td>\n",
       "      <td>ingrediente_3</td>\n",
       "      <td>13</td>\n",
       "      <td>3.3</td>\n",
       "      <td>1</td>\n",
       "      <td>10</td>\n",
       "      <td>12</td>\n",
       "    </tr>\n",
       "    <tr>\n",
       "      <th>3</th>\n",
       "      <td>essencia_2</td>\n",
       "      <td>ingrediente_4</td>\n",
       "      <td>12</td>\n",
       "      <td>4.4</td>\n",
       "      <td>4</td>\n",
       "      <td>14</td>\n",
       "      <td>20</td>\n",
       "    </tr>\n",
       "    <tr>\n",
       "      <th>4</th>\n",
       "      <td>essencia_2</td>\n",
       "      <td>ingrediente_2</td>\n",
       "      <td>4</td>\n",
       "      <td>4.5</td>\n",
       "      <td>4</td>\n",
       "      <td>14</td>\n",
       "      <td>20</td>\n",
       "    </tr>\n",
       "    <tr>\n",
       "      <th>5</th>\n",
       "      <td>sabonete_1</td>\n",
       "      <td>ingrediente_1</td>\n",
       "      <td>2</td>\n",
       "      <td>2.2</td>\n",
       "      <td>2</td>\n",
       "      <td>8</td>\n",
       "      <td>18</td>\n",
       "    </tr>\n",
       "    <tr>\n",
       "      <th>6</th>\n",
       "      <td>sabonete_1</td>\n",
       "      <td>ingrediente_2</td>\n",
       "      <td>24</td>\n",
       "      <td>4.5</td>\n",
       "      <td>2</td>\n",
       "      <td>8</td>\n",
       "      <td>18</td>\n",
       "    </tr>\n",
       "    <tr>\n",
       "      <th>7</th>\n",
       "      <td>sabonete_2</td>\n",
       "      <td>ingrediente_1</td>\n",
       "      <td>10</td>\n",
       "      <td>2.2</td>\n",
       "      <td>1</td>\n",
       "      <td>20</td>\n",
       "      <td>24</td>\n",
       "    </tr>\n",
       "  </tbody>\n",
       "</table>\n",
       "</div>"
      ],
      "text/plain": [
       "      produto    ingrediente  quantidade_ingrediente_produto  \\\n",
       "0  essencia_1  ingrediente_1                              16   \n",
       "1  essencia_1  ingrediente_2                              12   \n",
       "2  essencia_1  ingrediente_3                              13   \n",
       "3  essencia_2  ingrediente_4                              12   \n",
       "4  essencia_2  ingrediente_2                               4   \n",
       "5  sabonete_1  ingrediente_1                               2   \n",
       "6  sabonete_1  ingrediente_2                              24   \n",
       "7  sabonete_2  ingrediente_1                              10   \n",
       "\n",
       "   custo_ingrediente  quantidade_produto_loja  quantidade_minima_produto_loja  \\\n",
       "0                2.2                        1                              10   \n",
       "1                4.5                        1                              10   \n",
       "2                3.3                        1                              10   \n",
       "3                4.4                        4                              14   \n",
       "4                4.5                        4                              14   \n",
       "5                2.2                        2                               8   \n",
       "6                4.5                        2                               8   \n",
       "7                2.2                        1                              20   \n",
       "\n",
       "   quantidade_produto_encomendado  \n",
       "0                              12  \n",
       "1                              12  \n",
       "2                              12  \n",
       "3                              20  \n",
       "4                              20  \n",
       "5                              18  \n",
       "6                              18  \n",
       "7                              24  "
      ]
     },
     "execution_count": 9,
     "metadata": {},
     "output_type": "execute_result"
    }
   ],
   "source": [
    "tabela_ingrediente_produto = arquivo_csv.drop(labels=[\"investimento\"], axis=1)\n",
    "tabela_ingrediente_produto"
   ]
  },
  {
   "cell_type": "code",
   "execution_count": 10,
   "metadata": {},
   "outputs": [
    {
     "data": {
      "text/html": [
       "<div>\n",
       "<style scoped>\n",
       "    .dataframe tbody tr th:only-of-type {\n",
       "        vertical-align: middle;\n",
       "    }\n",
       "\n",
       "    .dataframe tbody tr th {\n",
       "        vertical-align: top;\n",
       "    }\n",
       "\n",
       "    .dataframe thead th {\n",
       "        text-align: right;\n",
       "    }\n",
       "</style>\n",
       "<table border=\"1\" class=\"dataframe\">\n",
       "  <thead>\n",
       "    <tr style=\"text-align: right;\">\n",
       "      <th></th>\n",
       "      <th>produto</th>\n",
       "      <th>quantidade_produto_loja</th>\n",
       "      <th>quantidade_minima_produto_loja</th>\n",
       "      <th>quantidade_produto_encomendado</th>\n",
       "    </tr>\n",
       "  </thead>\n",
       "  <tbody>\n",
       "    <tr>\n",
       "      <th>0</th>\n",
       "      <td>essencia_1</td>\n",
       "      <td>1</td>\n",
       "      <td>10</td>\n",
       "      <td>12</td>\n",
       "    </tr>\n",
       "    <tr>\n",
       "      <th>3</th>\n",
       "      <td>essencia_2</td>\n",
       "      <td>4</td>\n",
       "      <td>14</td>\n",
       "      <td>20</td>\n",
       "    </tr>\n",
       "    <tr>\n",
       "      <th>5</th>\n",
       "      <td>sabonete_1</td>\n",
       "      <td>2</td>\n",
       "      <td>8</td>\n",
       "      <td>18</td>\n",
       "    </tr>\n",
       "    <tr>\n",
       "      <th>7</th>\n",
       "      <td>sabonete_2</td>\n",
       "      <td>1</td>\n",
       "      <td>20</td>\n",
       "      <td>24</td>\n",
       "    </tr>\n",
       "  </tbody>\n",
       "</table>\n",
       "</div>"
      ],
      "text/plain": [
       "      produto  quantidade_produto_loja  quantidade_minima_produto_loja  \\\n",
       "0  essencia_1                        1                              10   \n",
       "3  essencia_2                        4                              14   \n",
       "5  sabonete_1                        2                               8   \n",
       "7  sabonete_2                        1                              20   \n",
       "\n",
       "   quantidade_produto_encomendado  \n",
       "0                              12  \n",
       "3                              20  \n",
       "5                              18  \n",
       "7                              24  "
      ]
     },
     "execution_count": 10,
     "metadata": {},
     "output_type": "execute_result"
    }
   ],
   "source": [
    "tabela_produtos = tabela_ingrediente_produto.drop(labels=[\"ingrediente\", \"quantidade_ingrediente_produto\", \"custo_ingrediente\"], axis=1).drop_duplicates()\n",
    "tabela_produtos"
   ]
  },
  {
   "cell_type": "code",
   "execution_count": 12,
   "metadata": {},
   "outputs": [
    {
     "name": "stdout",
     "output_type": "stream",
     "text": [
      "essencia_1\n",
      "essencia_2\n",
      "sabonete_1\n",
      "sabonete_2\n"
     ]
    }
   ],
   "source": [
    "for produto in tabela_produtos[\"produto\"]:\n",
    "  print(produto)"
   ]
  }
 ],
 "metadata": {
  "kernelspec": {
   "display_name": "env",
   "language": "python",
   "name": "python3"
  },
  "language_info": {
   "codemirror_mode": {
    "name": "ipython",
    "version": 3
   },
   "file_extension": ".py",
   "mimetype": "text/x-python",
   "name": "python",
   "nbconvert_exporter": "python",
   "pygments_lexer": "ipython3",
   "version": "3.11.5"
  }
 },
 "nbformat": 4,
 "nbformat_minor": 2
}
